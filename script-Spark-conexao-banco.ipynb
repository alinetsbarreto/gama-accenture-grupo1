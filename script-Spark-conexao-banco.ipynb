{
 "cells": [
  {
   "attachments": {},
   "cell_type": "markdown",
   "metadata": {
    "id": "1h29zp0GNEes"
   },
   "source": [
    "# **Instalação (ubuntu)**"
   ]
  },
  {
   "attachments": {},
   "cell_type": "markdown",
   "metadata": {
    "id": "RGSs8juXf1Jg"
   },
   "source": [
    "**Fazer as instalações do ODBC 18 e pyodbc para conexão com banco de dados:** \n",
    "\n",
    "- No terminal bash: instalar o driver ODBC colocando o código presente no \"UBUNTU\" em https://learn.microsoft.com/en-us/sql/connect/odbc/linux-mac/installing-the-microsoft-odbc-driver-for-sql-server?view=sql-server-ver15&tabs=ubuntu18-install%2Calpine17-install%2Cdebian8-install%2Credhat7-13-install%2Crhel7-offline "
   ]
  },
  {
   "cell_type": "code",
   "execution_count": null,
   "metadata": {},
   "outputs": [],
   "source": [
    "if ! [[ \"18.04 20.04 22.04\" == *\"$(lsb_release -rs)\"* ]];\n",
    "then\n",
    "    echo \"Ubuntu $(lsb_release -rs) is not currently supported.\";\n",
    "    exit;\n",
    "fi\n",
    "\n",
    "sudo su\n",
    "curl https://packages.microsoft.com/keys/microsoft.asc | apt-key add -\n",
    "\n",
    "curl https://packages.microsoft.com/config/ubuntu/$(lsb_release -rs)/prod.list > /etc/apt/sources.list.d/mssql-release.list\n",
    "\n",
    "exit\n",
    "sudo apt-get update\n",
    "sudo ACCEPT_EULA=Y apt-get install -y msodbcsql18\n",
    "# optional: for bcp and sqlcmd\n",
    "sudo ACCEPT_EULA=Y apt-get install -y mssql-tools18\n",
    "echo 'export PATH=\"$PATH:/opt/mssql-tools18/bin\"' >> ~/.bashrc\n",
    "source ~/.bashrc\n",
    "# optional: for unixODBC development headers\n",
    "sudo apt-get install -y unixodbc-dev"
   ]
  },
  {
   "cell_type": "code",
   "execution_count": null,
   "metadata": {
    "colab": {
     "base_uri": "https://localhost:8080/"
    },
    "id": "JjoPsgZ9gRrc",
    "outputId": "0ab403d1-b68c-4528-e65d-964a2d0e720a"
   },
   "outputs": [],
   "source": [
    "!pip install pyodbc"
   ]
  },
  {
   "cell_type": "markdown",
   "metadata": {
    "id": "3feKj-_oe91d"
   },
   "source": [
    "# Conexão com o banco de dados e importar dados"
   ]
  },
  {
   "attachments": {},
   "cell_type": "markdown",
   "metadata": {},
   "source": [
    "Considerando que é um script de continuação e que já foi iniciado a sessão do Spark e foi gerado os dataframes"
   ]
  },
  {
   "cell_type": "code",
   "execution_count": 12,
   "metadata": {},
   "outputs": [
    {
     "name": "stdout",
     "output_type": "stream",
     "text": [
      "Conexão estabelecida com sucesso!\n",
      "Dados inseridos na tabela de clientes com sucesso!\n",
      "Dados inseridos na tabela de transactions com sucesso!\n"
     ]
    }
   ],
   "source": [
    "import pyodbc\n",
    "\n",
    "#Conectar com SQL server\n",
    "try:\n",
    "    conn = pyodbc.connect(\"Driver={ODBC Driver 18 for SQL Server};Server=tcp:<SERVER>,1433;Database=<DATABASE>;Uid=<USER>;Pwd=<PASSWORD>;Encrypt=yes;TrustServerCertificate=no;Connection Timeout=30;\")\n",
    "    cursor = conn.cursor()\n",
    "    print(\"Conexão estabelecida com sucesso!\")\n",
    "except pyodbc.Error as ex:\n",
    "    print(\"Erro ao estabelecer conexão:\", ex)\n",
    "\n",
    "#Criar tabela no banco de dados\n",
    "    # Tabela de clientes\n",
    "cursor.execute('''\n",
    "                CREATE TABLE clients (\n",
    "                    id INT PRIMARY KEY,\n",
    "                    nome VARCHAR(150),\n",
    "                    email VARCHAR(150),\n",
    "                    data_cadastro DATETIME,\n",
    "                    telefone VARCHAR(150)\n",
    "                )\n",
    "                ''')\n",
    "\n",
    "\n",
    "   # Tabela de transactions\n",
    "cursor.execute('''\n",
    "                CREATE TABLE transactions (\n",
    "                    id INT PRIMARY KEY,\n",
    "                    cliente_id INT,\n",
    "                    valor FLOAT,\n",
    "                    data DATETIME,\n",
    "                    tipo_transacao VARCHAR(45),\n",
    "                )\n",
    "                ''')\n",
    "\n",
    "\n",
    "# Inserir dados na tabela clients\n",
    "try:\n",
    "    for row in df_clientes_order.collect():             # Inserindo uma linha na tabela\n",
    "        cursor.execute(\"INSERT INTO clients (id, nome, email, data_cadastro, telefone) VALUES (?, ?, ?, ?, ? )\", row[0], row[1], row[2], row[3], row[4])\n",
    "    print(\"Dados inseridos na tabela de clientes com sucesso!\")\n",
    "\n",
    "except Exception as e:\n",
    "    print(\"Não foi possível inserir dados na tabela clients:\", e)\n",
    "\n",
    "# Inserir dados na tabela transactions\n",
    "try:\n",
    "    for row in df_transactions.collect():               # Inserindo uma linha na tabela\n",
    "        cursor.execute(\"INSERT INTO transactions (id, cliente_id, valor, data, tipo_transacao) VALUES (?, ?, ?, ?, ?)\", row[0], row[1], row[2], row[3], row[4])\n",
    "    print(\"Dados inseridos na tabela de transactions com sucesso!\")\n",
    "\n",
    "except Exception as e:\n",
    "    print(\"Não foi possível inserir dados na tabela transactions:\", e)   \n",
    "    \n",
    "   \n",
    "# Salvando as mudanças\n",
    "conn.commit()\n",
    "\n",
    "# Fechando a conexão\n",
    "conn.close()\n",
    "\n",
    "# Encerrando a sessão Spark\n",
    "spark.stop()"
   ]
  }
 ],
 "metadata": {
  "colab": {
   "provenance": []
  },
  "kernelspec": {
   "display_name": "Python 3",
   "language": "python",
   "name": "python3"
  },
  "language_info": {
   "codemirror_mode": {
    "name": "ipython",
    "version": 3
   },
   "file_extension": ".py",
   "mimetype": "text/x-python",
   "name": "python",
   "nbconvert_exporter": "python",
   "pygments_lexer": "ipython3",
   "version": "3.8.10"
  }
 },
 "nbformat": 4,
 "nbformat_minor": 1
}
